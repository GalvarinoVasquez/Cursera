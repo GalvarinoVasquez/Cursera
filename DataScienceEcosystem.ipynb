{
 "cells": [
  {
   "cell_type": "markdown",
   "metadata": {},
   "source": [
    "<center>\n",
    "    <img src=\"https://cf-courses-data.s3.us.cloud-object-storage.appdomain.cloud/IBMDeveloperSkillsNetwork-DS0105EN-SkillsNetwork/labs/Module2/images/SN_web_lightmode.png\" width=\"300\" alt=\"cognitiveclass.ai logo\">\n",
    "</center>\n"
   ]
  },
  {
   "cell_type": "markdown",
   "metadata": {
    "tags": []
   },
   "source": [
    "#### Add your code below following the instructions given in the course\n"
   ]
  },
  {
   "cell_type": "markdown",
   "metadata": {},
   "source": [
    "# Data Science Ecosystem"
   ]
  },
  {
   "cell_type": "markdown",
   "metadata": {
    "tags": []
   },
   "source": [
    "## Introduction"
   ]
  },
  {
   "cell_type": "markdown",
   "metadata": {},
   "source": [
    "#### During the course of this project, we will carry out a series of exercises using Jupyter Notebook, a powerful tool for programming and data analysis. Furthermore, I have decided to share the work through GitHub, a collaborative development platform that facilitates tracking and collaboration on open-source projects. I invite you to explore the public repository and assess the work carefully. Your feedback and suggestions are essential for progress and continuous improvement. Thank you for being a part of this process!"
   ]
  },
  {
   "cell_type": "markdown",
   "metadata": {
    "tags": []
   },
   "source": [
    "### __List of Objectives__\n",
    "\n",
    "#### The objectives addressed in this laboratory are the following:\n",
    "\n",
    "+ Markdown Titles\n",
    "+ Popular Languages\n",
    "+ Simple Arithmetic\n",
    "+ Simple Hours to Minutes and Minutes to Hours Calculator"
   ]
  },
  {
   "cell_type": "markdown",
   "metadata": {},
   "source": [
    "## __List of Data Science Languages__\n",
    "\n",
    "+ Python\n",
    "+ SQL\n",
    "+ Scala\n",
    "+ Apache\n",
    "+ R\n",
    "+ C++\n",
    "+ Juliet"
   ]
  },
  {
   "cell_type": "markdown",
   "metadata": {},
   "source": [
    "## __List of Data Science Libraries__\n",
    "\n",
    "+ Scikit-Learn\n",
    "+ PixieDust\n",
    "+ ggplot\n",
    "+ Pandas\n",
    "+ Pytorch\n",
    "+ NumPy\n",
    "+ Tensor Flow"
   ]
  },
  {
   "cell_type": "markdown",
   "metadata": {},
   "source": [
    "### __Table of Data Science Tools__\n",
    "\n",
    "| Data Science Tools |\n",
    "| ----- |\n",
    "| Python |\n",
    "| R |\n",
    "| TensorFlow |\n",
    "| Apache Spark |\n",
    "| Tableau |"
   ]
  },
  {
   "cell_type": "markdown",
   "metadata": {},
   "source": [
    "### __Introduction of Arithmetic expression__\n",
    "\n",
    "#### *Examples:*\n",
    "\n",
    "- 35+5\n",
    "- 15-5\n",
    "- 15*35\n",
    "- 10/2"
   ]
  },
  {
   "cell_type": "code",
   "execution_count": 1,
   "metadata": {
    "tags": []
   },
   "outputs": [
    {
     "data": {
      "text/plain": [
       "300"
      ]
     },
     "execution_count": 1,
     "metadata": {},
     "output_type": "execute_result"
    }
   ],
   "source": [
    "(25+5)*10"
   ]
  },
  {
   "cell_type": "code",
   "execution_count": 2,
   "metadata": {
    "tags": []
   },
   "outputs": [
    {
     "data": {
      "text/plain": [
       "40"
      ]
     },
     "execution_count": 2,
     "metadata": {},
     "output_type": "execute_result"
    }
   ],
   "source": [
    "(15+5)*2"
   ]
  },
  {
   "cell_type": "code",
   "execution_count": 3,
   "metadata": {
    "tags": []
   },
   "outputs": [
    {
     "data": {
      "text/plain": [
       "440"
      ]
     },
     "execution_count": 3,
     "metadata": {},
     "output_type": "execute_result"
    }
   ],
   "source": [
    "(10+78)*5"
   ]
  },
  {
   "cell_type": "code",
   "execution_count": 4,
   "metadata": {
    "tags": []
   },
   "outputs": [
    {
     "name": "stdout",
     "output_type": "stream",
     "text": [
      "Choose an option:\n",
      "1. Convert minutes to hours\n",
      "2. Convert hours to minutes\n",
      "3. Quit\n"
     ]
    },
    {
     "name": "stdin",
     "output_type": "stream",
     "text": [
      "Enter your choice (1/2/3):  1\n",
      "Enter the number of minutes:  180\n"
     ]
    },
    {
     "name": "stdout",
     "output_type": "stream",
     "text": [
      "180.0 minutes is equal to 3.0 hours.\n",
      "\n",
      "Choose an option:\n",
      "1. Convert minutes to hours\n",
      "2. Convert hours to minutes\n",
      "3. Quit\n"
     ]
    },
    {
     "name": "stdin",
     "output_type": "stream",
     "text": [
      "Enter your choice (1/2/3):  3\n"
     ]
    },
    {
     "name": "stdout",
     "output_type": "stream",
     "text": [
      "Good look!\n"
     ]
    }
   ],
   "source": [
    "def minutes_to_hours(minutes):\n",
    "    hours = minutes / 60\n",
    "    return hours\n",
    "\n",
    "def hours_to_minutes(hours):\n",
    "    minutes = hours * 60\n",
    "    return minutes\n",
    "\n",
    "while True:\n",
    "    print(\"Choose an option:\")\n",
    "    print(\"1. Convert minutes to hours\")\n",
    "    print(\"2. Convert hours to minutes\")\n",
    "    print(\"3. Quit\")\n",
    "\n",
    "    choice = input(\"Enter your choice (1/2/3): \")\n",
    "\n",
    "    if choice == '1':\n",
    "        minutes = float(input(\"Enter the number of minutes: \"))\n",
    "        hours = minutes_to_hours(minutes)\n",
    "        print(f\"{minutes} minutes is equal to {hours} hours.\\n\")\n",
    "    elif choice == '2':\n",
    "        hours = float(input(\"Enter the number of hours: \"))\n",
    "        minutes = hours_to_minutes(hours)\n",
    "        print(f\"{hours} hours is equal to {minutes} minutes.\\n\")\n",
    "    elif choice == '3':\n",
    "        print(\"Good look!\")\n",
    "        break\n",
    "    else:\n",
    "        print(\"Invalid choice. Please enter 1, 2, or 3.\\n\")"
   ]
  },
  {
   "cell_type": "markdown",
   "metadata": {},
   "source": [
    "### Author\n",
    "\n",
    "+ Galvarino Vásquez"
   ]
  }
 ],
 "metadata": {
  "kernelspec": {
   "display_name": "Python",
   "language": "python",
   "name": "conda-env-python-py"
  },
  "language_info": {
   "codemirror_mode": {
    "name": "ipython",
    "version": 3
   },
   "file_extension": ".py",
   "mimetype": "text/x-python",
   "name": "python",
   "nbconvert_exporter": "python",
   "pygments_lexer": "ipython3",
   "version": "3.7.12"
  }
 },
 "nbformat": 4,
 "nbformat_minor": 4
}
